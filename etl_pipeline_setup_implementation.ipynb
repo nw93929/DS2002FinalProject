{
  "nbformat": 4,
  "nbformat_minor": 0,
  "metadata": {
    "colab": {
      "provenance": [],
      "authorship_tag": "ABX9TyOaEUWDPvFENIWrP5Np6Z9/",
      "include_colab_link": true
    },
    "kernelspec": {
      "name": "python3",
      "display_name": "Python 3"
    },
    "language_info": {
      "name": "python"
    }
  },
  "cells": [
    {
      "cell_type": "markdown",
      "metadata": {
        "id": "view-in-github",
        "colab_type": "text"
      },
      "source": [
        "<a href=\"https://colab.research.google.com/github/nw93929/DS2002FinalProject/blob/main/etl_pipeline_setup_implementation.ipynb\" target=\"_parent\"><img src=\"https://colab.research.google.com/assets/colab-badge.svg\" alt=\"Open In Colab\"/></a>"
      ]
    },
    {
      "cell_type": "code",
      "execution_count": null,
      "metadata": {
        "colab": {
          "base_uri": "https://localhost:8080/"
        },
        "collapsed": true,
        "id": "kx1YECgnb2Ca",
        "outputId": "26349b92-4ef2-4e33-ed17-8d8db6bd92bd"
      },
      "outputs": [
        {
          "output_type": "stream",
          "name": "stdout",
          "text": [
            "Requirement already satisfied: pandas in /usr/local/lib/python3.10/dist-packages (2.2.2)\n",
            "Requirement already satisfied: openpyxl in /usr/local/lib/python3.10/dist-packages (3.1.5)\n",
            "Requirement already satisfied: sqlalchemy in /usr/local/lib/python3.10/dist-packages (2.0.36)\n",
            "Collecting pymysql\n",
            "  Downloading PyMySQL-1.1.1-py3-none-any.whl.metadata (4.4 kB)\n",
            "Requirement already satisfied: google-cloud-storage in /usr/local/lib/python3.10/dist-packages (2.8.0)\n",
            "Requirement already satisfied: numpy>=1.22.4 in /usr/local/lib/python3.10/dist-packages (from pandas) (1.26.4)\n",
            "Requirement already satisfied: python-dateutil>=2.8.2 in /usr/local/lib/python3.10/dist-packages (from pandas) (2.8.2)\n",
            "Requirement already satisfied: pytz>=2020.1 in /usr/local/lib/python3.10/dist-packages (from pandas) (2024.2)\n",
            "Requirement already satisfied: tzdata>=2022.7 in /usr/local/lib/python3.10/dist-packages (from pandas) (2024.2)\n",
            "Requirement already satisfied: et-xmlfile in /usr/local/lib/python3.10/dist-packages (from openpyxl) (2.0.0)\n",
            "Requirement already satisfied: typing-extensions>=4.6.0 in /usr/local/lib/python3.10/dist-packages (from sqlalchemy) (4.12.2)\n",
            "Requirement already satisfied: greenlet!=0.4.17 in /usr/local/lib/python3.10/dist-packages (from sqlalchemy) (3.1.1)\n",
            "Requirement already satisfied: google-auth<3.0dev,>=1.25.0 in /usr/local/lib/python3.10/dist-packages (from google-cloud-storage) (2.27.0)\n",
            "Requirement already satisfied: google-api-core!=2.0.*,!=2.1.*,!=2.2.*,!=2.3.0,<3.0.0dev,>=1.31.5 in /usr/local/lib/python3.10/dist-packages (from google-cloud-storage) (2.19.2)\n",
            "Requirement already satisfied: google-cloud-core<3.0dev,>=2.3.0 in /usr/local/lib/python3.10/dist-packages (from google-cloud-storage) (2.4.1)\n",
            "Requirement already satisfied: google-resumable-media>=2.3.2 in /usr/local/lib/python3.10/dist-packages (from google-cloud-storage) (2.7.2)\n",
            "Requirement already satisfied: requests<3.0.0dev,>=2.18.0 in /usr/local/lib/python3.10/dist-packages (from google-cloud-storage) (2.32.3)\n",
            "Requirement already satisfied: googleapis-common-protos<2.0.dev0,>=1.56.2 in /usr/local/lib/python3.10/dist-packages (from google-api-core!=2.0.*,!=2.1.*,!=2.2.*,!=2.3.0,<3.0.0dev,>=1.31.5->google-cloud-storage) (1.66.0)\n",
            "Requirement already satisfied: protobuf!=3.20.0,!=3.20.1,!=4.21.0,!=4.21.1,!=4.21.2,!=4.21.3,!=4.21.4,!=4.21.5,<6.0.0.dev0,>=3.19.5 in /usr/local/lib/python3.10/dist-packages (from google-api-core!=2.0.*,!=2.1.*,!=2.2.*,!=2.3.0,<3.0.0dev,>=1.31.5->google-cloud-storage) (4.25.5)\n",
            "Requirement already satisfied: proto-plus<2.0.0dev,>=1.22.3 in /usr/local/lib/python3.10/dist-packages (from google-api-core!=2.0.*,!=2.1.*,!=2.2.*,!=2.3.0,<3.0.0dev,>=1.31.5->google-cloud-storage) (1.25.0)\n",
            "Requirement already satisfied: cachetools<6.0,>=2.0.0 in /usr/local/lib/python3.10/dist-packages (from google-auth<3.0dev,>=1.25.0->google-cloud-storage) (5.5.0)\n",
            "Requirement already satisfied: pyasn1-modules>=0.2.1 in /usr/local/lib/python3.10/dist-packages (from google-auth<3.0dev,>=1.25.0->google-cloud-storage) (0.4.1)\n",
            "Requirement already satisfied: rsa<5,>=3.1.4 in /usr/local/lib/python3.10/dist-packages (from google-auth<3.0dev,>=1.25.0->google-cloud-storage) (4.9)\n",
            "Requirement already satisfied: google-crc32c<2.0dev,>=1.0 in /usr/local/lib/python3.10/dist-packages (from google-resumable-media>=2.3.2->google-cloud-storage) (1.6.0)\n",
            "Requirement already satisfied: six>=1.5 in /usr/local/lib/python3.10/dist-packages (from python-dateutil>=2.8.2->pandas) (1.16.0)\n",
            "Requirement already satisfied: charset-normalizer<4,>=2 in /usr/local/lib/python3.10/dist-packages (from requests<3.0.0dev,>=2.18.0->google-cloud-storage) (3.4.0)\n",
            "Requirement already satisfied: idna<4,>=2.5 in /usr/local/lib/python3.10/dist-packages (from requests<3.0.0dev,>=2.18.0->google-cloud-storage) (3.10)\n",
            "Requirement already satisfied: urllib3<3,>=1.21.1 in /usr/local/lib/python3.10/dist-packages (from requests<3.0.0dev,>=2.18.0->google-cloud-storage) (2.2.3)\n",
            "Requirement already satisfied: certifi>=2017.4.17 in /usr/local/lib/python3.10/dist-packages (from requests<3.0.0dev,>=2.18.0->google-cloud-storage) (2024.8.30)\n",
            "Requirement already satisfied: pyasn1<0.7.0,>=0.4.6 in /usr/local/lib/python3.10/dist-packages (from pyasn1-modules>=0.2.1->google-auth<3.0dev,>=1.25.0->google-cloud-storage) (0.6.1)\n",
            "Downloading PyMySQL-1.1.1-py3-none-any.whl (44 kB)\n",
            "\u001b[2K   \u001b[90m━━━━━━━━━━━━━━━━━━━━━━━━━━━━━━━━━━━━━━━━\u001b[0m \u001b[32m45.0/45.0 kB\u001b[0m \u001b[31m2.2 MB/s\u001b[0m eta \u001b[36m0:00:00\u001b[0m\n",
            "\u001b[?25hInstalling collected packages: pymysql\n",
            "Successfully installed pymysql-1.1.1\n"
          ]
        }
      ],
      "source": [
        "# Need to install necessary libraries\n",
        "!pip install pandas openpyxl sqlalchemy pymysql google-cloud-storage"
      ]
    },
    {
      "cell_type": "code",
      "source": [
        "# Loading necessary data into data frames\n",
        "import pandas as pd\n",
        "# import numpy as np\n",
        "outcomes = pd.read_excel('WinningPartyByCounties.xlsx')\n",
        "demographics2012 = pd.read_excel('demographicsswingstates2012.xlsx')\n",
        "demographics2016 = pd.read_excel('demographicsswingstates2016.xlsx')\n",
        "demographics2020 = pd.read_excel('demographicswingstates2020.xlsx')"
      ],
      "metadata": {
        "id": "WV1LIRXpcqi0"
      },
      "execution_count": null,
      "outputs": []
    },
    {
      "cell_type": "code",
      "source": [
        "# Clean outcomes data\n",
        "outcomes['state'] = outcomes['state'].str.capitalize()\n",
        "outcomes['county_name'] = outcomes['county_name'].str.capitalize()\n",
        "columns_to_drop = ['office', 'version', 'county_fips', 'mode']\n",
        "outcomes_cleaned = outcomes.drop(columns=columns_to_drop)\n",
        "\n",
        "# Validate the changes to outcomes\n",
        "print(outcomes_cleaned.head())"
      ],
      "metadata": {
        "colab": {
          "base_uri": "https://localhost:8080/"
        },
        "collapsed": true,
        "id": "jthilo9Lo6Ih",
        "outputId": "de681b75-8158-41bc-dcc6-b570250ee2b6"
      },
      "execution_count": null,
      "outputs": [
        {
          "output_type": "stream",
          "name": "stdout",
          "text": [
            "   year    state state_po county_name     candidate       party  \\\n",
            "0  2012  Arizona       AZ      Apache  BARACK OBAMA    DEMOCRAT   \n",
            "1  2012  Arizona       AZ     Cochise   MITT ROMNEY  REPUBLICAN   \n",
            "2  2012  Arizona       AZ    Coconino  BARACK OBAMA    DEMOCRAT   \n",
            "3  2012  Arizona       AZ        Gila   MITT ROMNEY  REPUBLICAN   \n",
            "4  2012  Arizona       AZ      Graham   MITT ROMNEY  REPUBLICAN   \n",
            "\n",
            "   candidatevotes  totalvotes  \n",
            "0           17147       25848  \n",
            "1           29497       49003  \n",
            "2           29257       51731  \n",
            "3           13455       21528  \n",
            "4            8076       11855  \n"
          ]
        }
      ]
    },
    {
      "cell_type": "code",
      "source": [
        "# keep only necessary columns for analysis\n",
        "columns_to_keep = ['County Name', 'State Name', 'Males 18-24 %', 'Females 65+ %',\n",
        "                   'White alone %', 'Black or African American alone %',\n",
        "                   'less than $39,999 %', 'more than $200,000 %',\n",
        "                   'Regular high school diploma %', \"Master's degree %\",\n",
        "                   'In labor force %', 'Not in labor force %']\n",
        "\n",
        "columns_to_keep_2016 = ['County Name', 'State Name', 'Males 18-24 %', 'Females 65+ %',\n",
        "                   'White alone %', 'Black or African American alone %',\n",
        "                   'less than $39,999 %', 'more than $200,000 %',\n",
        "                   'Regular high school diploma %', \"Master's degree %\",\n",
        "                   'In labor force Percentage %', 'Not in labor force Percentage %']\n",
        "\n",
        "# Clean demographics data\n",
        "demographics2012_cleaned = demographics2012[columns_to_keep]\n",
        "demographics2016_cleaned = demographics2016[columns_to_keep_2016].rename(\n",
        "    columns={\n",
        "        \"In labor force Percentage %\": \"In labor force %\",\n",
        "        \"Not in labor force Percentage %\": \"Not in labor force %\"\n",
        "    }\n",
        ")\n",
        "demographics2020_cleaned = demographics2020[columns_to_keep]\n",
        "\n",
        "# Display cleaned demographics data\n",
        "print(demographics2012_cleaned.head())\n",
        "print(demographics2016_cleaned.head())\n",
        "print(demographics2020_cleaned.head())"
      ],
      "metadata": {
        "colab": {
          "base_uri": "https://localhost:8080/"
        },
        "collapsed": true,
        "id": "lLbHJX4P18ON",
        "outputId": "f3270574-f90e-4d47-fdaa-822dda57b2b5"
      },
      "execution_count": null,
      "outputs": [
        {
          "output_type": "stream",
          "name": "stdout",
          "text": [
            "       County Name State Name  Males 18-24 %  Females 65+ %  White alone %  \\\n",
            "0    Apache County    Arizona       0.108152       0.127219       0.239842   \n",
            "1   Cochise County    Arizona       0.106513       0.185125       0.802842   \n",
            "2  Coconino County    Arizona       0.174577       0.097482       0.626210   \n",
            "3      Gila County    Arizona       0.078577       0.243020       0.791377   \n",
            "4    Graham County    Arizona       0.123646       0.135922       0.753684   \n",
            "\n",
            "   Black or African American alone %  less than $39,999 %  \\\n",
            "0                           0.002890             0.598109   \n",
            "1                           0.039384             0.438521   \n",
            "2                           0.013238             0.419966   \n",
            "3                           0.004454             0.523142   \n",
            "4                           0.020908             0.456232   \n",
            "\n",
            "   more than $200,000 %  Regular high school diploma %  Master's degree %  \\\n",
            "0              0.010349                       0.276767           0.032809   \n",
            "1              0.020866                       0.189967           0.067294   \n",
            "2              0.027626                       0.185110           0.088901   \n",
            "3              0.007755                       0.271080           0.048560   \n",
            "4              0.013706                       0.257743           0.043325   \n",
            "\n",
            "   In labor force %  Not in labor force %  \n",
            "0          0.452971              0.547029  \n",
            "1          0.538091              0.461909  \n",
            "2          0.667074              0.332926  \n",
            "3          0.466888              0.533112  \n",
            "4          0.506001              0.493999  \n",
            "       County Name State Name  Males 18-24 %  Females 65+ %  White alone %  \\\n",
            "0    Apache County    Arizona       0.105456       0.142354       0.225403   \n",
            "1   Cochise County    Arizona       0.098405       0.209632       0.828042   \n",
            "2  Coconino County    Arizona       0.189641       0.113310       0.632569   \n",
            "3      Gila County    Arizona       0.074720       0.272442       0.786250   \n",
            "4    Graham County    Arizona       0.112319       0.142857       0.788723   \n",
            "\n",
            "   Black or African American alone %  less than $39,999 %  \\\n",
            "0                           0.004990             0.580383   \n",
            "1                           0.039601             0.450152   \n",
            "2                           0.015471             0.403792   \n",
            "3                           0.006243             0.490798   \n",
            "4                           0.019745             0.430692   \n",
            "\n",
            "   more than $200,000 %  Regular high school diploma %  Master's degree %  \\\n",
            "0              0.004909                       0.301991           0.032435   \n",
            "1              0.026732                       0.180876           0.066757   \n",
            "2              0.039606                       0.186250           0.098827   \n",
            "3              0.014154                       0.240838           0.051534   \n",
            "4              0.012368                       0.240259           0.041051   \n",
            "\n",
            "   In labor force %  Not in labor force %  \n",
            "0          0.404069              0.595931  \n",
            "1          0.498036              0.501964  \n",
            "2          0.638792              0.361208  \n",
            "3          0.471963              0.528037  \n",
            "4          0.496903              0.503097  \n",
            "       County Name State Name  Males 18-24 %  Females 65+ %  White alone %  \\\n",
            "0    Apache County    Arizona       0.096671       0.166575       0.220138   \n",
            "1   Cochise County    Arizona       0.095913       0.234248       0.820843   \n",
            "2  Coconino County    Arizona       0.189108       0.129710       0.631307   \n",
            "3      Gila County    Arizona       0.066289       0.293468       0.739962   \n",
            "4    Graham County    Arizona       0.110861       0.158859       0.774932   \n",
            "\n",
            "   Black or African American alone %  less than $39,999 %  \\\n",
            "0                           0.007600             0.556475   \n",
            "1                           0.040793             0.396940   \n",
            "2                           0.013560             0.345418   \n",
            "3                           0.007261             0.426897   \n",
            "4                           0.017831             0.362002   \n",
            "\n",
            "   more than $200,000 %  Regular high school diploma %  Master's degree %  \\\n",
            "0              0.006464                       0.281952           0.038854   \n",
            "1              0.027614                       0.193695           0.079766   \n",
            "2              0.052207                       0.192542           0.104241   \n",
            "3              0.025263                       0.237368           0.055762   \n",
            "4              0.018153                       0.225809           0.039096   \n",
            "\n",
            "   In labor force %  Not in labor force %  \n",
            "0          0.382457              0.617543  \n",
            "1          0.503256              0.496744  \n",
            "2          0.614906              0.385094  \n",
            "3          0.466282              0.533718  \n",
            "4          0.492790              0.507210  \n"
          ]
        }
      ]
    },
    {
      "cell_type": "code",
      "source": [
        "# Add the 'year' column using .loc\n",
        "demographics2012_cleaned = demographics2012_cleaned.copy()\n",
        "demographics2016_cleaned = demographics2016_cleaned.copy()\n",
        "demographics2020_cleaned = demographics2020_cleaned.copy()\n",
        "\n",
        "demographics2012_cleaned.loc[:, 'year'] = 2012\n",
        "demographics2016_cleaned.loc[:, 'year'] = 2016\n",
        "demographics2020_cleaned.loc[:, 'year'] = 2020\n",
        "\n",
        "# Clean 'county_name' and 'state' columns for compatibility with outcomes\n",
        "for df in [demographics2012_cleaned, demographics2016_cleaned, demographics2020_cleaned]:\n",
        "    # Remove \"County\" suffix and ensure consistent capitalization\n",
        "    df.loc[:, 'county_name'] = df['County Name'].str.replace(r'\\s*County\\s*$', '', regex=True).str.strip().str.title()\n",
        "    df.loc[:, 'state'] = df['State Name'].str.strip().str.title()\n",
        "\n",
        "# # Display cleaned demographics data to verify\n",
        "# print(demographics2012_cleaned.head())\n",
        "# print(demographics2016_cleaned.head())\n",
        "# print(demographics2020_cleaned.head())\n",
        "\n",
        "\n",
        "# # Check unique values for county_name and state in outcomes\n",
        "# print(\"Unique county names in outcomes:\", outcomes_cleaned['county_name'].unique())\n",
        "# print(\"Unique states in outcomes:\", outcomes_cleaned['state'].unique())\n",
        "\n",
        "# # Check unique values for county_name and state in demographics\n",
        "# print(\"Unique county names in demographics2012_cleaned:\", demographics2012_cleaned['county_name'].unique())\n",
        "# print(\"Unique states in demographics2012_cleaned:\", demographics2012_cleaned['state'].unique())"
      ],
      "metadata": {
        "collapsed": true,
        "id": "vzxa_8E-Bwkk"
      },
      "execution_count": null,
      "outputs": []
    },
    {
      "cell_type": "code",
      "source": [
        "\n",
        "# Merge datasets\n",
        "merged_2012 = pd.merge(\n",
        "    outcomes_cleaned[outcomes_cleaned['year'] == 2012],\n",
        "    demographics2012_cleaned,\n",
        "    on=['county_name', 'state'],\n",
        "    how='inner'\n",
        ")\n",
        "\n",
        "merged_2016 = pd.merge(\n",
        "    outcomes_cleaned[outcomes_cleaned['year'] == 2016],\n",
        "    demographics2016_cleaned,\n",
        "    on=['county_name', 'state'],\n",
        "    how='inner'\n",
        ")\n",
        "\n",
        "merged_2020 = pd.merge(\n",
        "    outcomes_cleaned[outcomes_cleaned['year'] == 2020],\n",
        "    demographics2020_cleaned,\n",
        "    on=['county_name', 'state'],\n",
        "    how='inner'\n",
        ")\n",
        "\n",
        "# Save merged data\n",
        "merged_2012.to_csv('merged_data_2012.csv', index=False)\n",
        "merged_2016.to_csv('merged_data_2016.csv', index=False)\n",
        "merged_2020.to_csv('merged_data_2020.csv', index=False)\n",
        "\n",
        "# Verify the merged data\n",
        "print(\"Merged 2012 Data:\")\n",
        "print(merged_2012.head())\n",
        "\n",
        "print(\"\\nMerged 2016 Data:\")\n",
        "print(merged_2016.head())\n",
        "\n",
        "print(\"\\nMerged 2020 Data:\")\n",
        "print(merged_2020.head())"
      ],
      "metadata": {
        "colab": {
          "base_uri": "https://localhost:8080/"
        },
        "collapsed": true,
        "id": "3bovRU5D_xIz",
        "outputId": "9b486fde-d98f-4a57-980c-b7879ce27a8b"
      },
      "execution_count": null,
      "outputs": [
        {
          "output_type": "stream",
          "name": "stdout",
          "text": [
            "Merged 2012 Data:\n",
            "   year_x    state state_po county_name     candidate       party  \\\n",
            "0    2012  Arizona       AZ      Apache  BARACK OBAMA    DEMOCRAT   \n",
            "1    2012  Arizona       AZ     Cochise   MITT ROMNEY  REPUBLICAN   \n",
            "2    2012  Arizona       AZ    Coconino  BARACK OBAMA    DEMOCRAT   \n",
            "3    2012  Arizona       AZ        Gila   MITT ROMNEY  REPUBLICAN   \n",
            "4    2012  Arizona       AZ      Graham   MITT ROMNEY  REPUBLICAN   \n",
            "\n",
            "   candidatevotes  totalvotes      County Name State Name  ...  Females 65+ %  \\\n",
            "0           17147       25848    Apache County    Arizona  ...       0.127219   \n",
            "1           29497       49003   Cochise County    Arizona  ...       0.185125   \n",
            "2           29257       51731  Coconino County    Arizona  ...       0.097482   \n",
            "3           13455       21528      Gila County    Arizona  ...       0.243020   \n",
            "4            8076       11855    Graham County    Arizona  ...       0.135922   \n",
            "\n",
            "   White alone %  Black or African American alone %  less than $39,999 %  \\\n",
            "0       0.239842                           0.002890             0.598109   \n",
            "1       0.802842                           0.039384             0.438521   \n",
            "2       0.626210                           0.013238             0.419966   \n",
            "3       0.791377                           0.004454             0.523142   \n",
            "4       0.753684                           0.020908             0.456232   \n",
            "\n",
            "   more than $200,000 %  Regular high school diploma %  Master's degree %  \\\n",
            "0              0.010349                       0.276767           0.032809   \n",
            "1              0.020866                       0.189967           0.067294   \n",
            "2              0.027626                       0.185110           0.088901   \n",
            "3              0.007755                       0.271080           0.048560   \n",
            "4              0.013706                       0.257743           0.043325   \n",
            "\n",
            "   In labor force %  Not in labor force %  year_y  \n",
            "0          0.452971              0.547029    2012  \n",
            "1          0.538091              0.461909    2012  \n",
            "2          0.667074              0.332926    2012  \n",
            "3          0.466888              0.533112    2012  \n",
            "4          0.506001              0.493999    2012  \n",
            "\n",
            "[5 rows x 21 columns]\n",
            "\n",
            "Merged 2016 Data:\n",
            "   year_x    state state_po county_name        candidate       party  \\\n",
            "0    2016  Arizona       AZ      Apache  HILLARY CLINTON    DEMOCRAT   \n",
            "1    2016  Arizona       AZ     Cochise     DONALD TRUMP  REPUBLICAN   \n",
            "2    2016  Arizona       AZ    Coconino  HILLARY CLINTON    DEMOCRAT   \n",
            "3    2016  Arizona       AZ        Gila     DONALD TRUMP  REPUBLICAN   \n",
            "4    2016  Arizona       AZ      Graham     DONALD TRUMP  REPUBLICAN   \n",
            "\n",
            "   candidatevotes  totalvotes      County Name State Name  ...  Females 65+ %  \\\n",
            "0           17083       27661    Apache County    Arizona  ...       0.142354   \n",
            "1           28092       50015   Cochise County    Arizona  ...       0.209632   \n",
            "2           32404       59784  Coconino County    Arizona  ...       0.113310   \n",
            "3           14182       22312      Gila County    Arizona  ...       0.272442   \n",
            "4            8025       12134    Graham County    Arizona  ...       0.142857   \n",
            "\n",
            "   White alone %  Black or African American alone %  less than $39,999 %  \\\n",
            "0       0.225403                           0.004990             0.580383   \n",
            "1       0.828042                           0.039601             0.450152   \n",
            "2       0.632569                           0.015471             0.403792   \n",
            "3       0.786250                           0.006243             0.490798   \n",
            "4       0.788723                           0.019745             0.430692   \n",
            "\n",
            "   more than $200,000 %  Regular high school diploma %  Master's degree %  \\\n",
            "0              0.004909                       0.301991           0.032435   \n",
            "1              0.026732                       0.180876           0.066757   \n",
            "2              0.039606                       0.186250           0.098827   \n",
            "3              0.014154                       0.240838           0.051534   \n",
            "4              0.012368                       0.240259           0.041051   \n",
            "\n",
            "   In labor force %  Not in labor force %  year_y  \n",
            "0          0.404069              0.595931    2016  \n",
            "1          0.498036              0.501964    2016  \n",
            "2          0.638792              0.361208    2016  \n",
            "3          0.471963              0.528037    2016  \n",
            "4          0.496903              0.503097    2016  \n",
            "\n",
            "[5 rows x 21 columns]\n",
            "\n",
            "Merged 2020 Data:\n",
            "   year_x    state state_po county_name          candidate       party  \\\n",
            "0    2020  Arizona       AZ      Apache  JOSEPH R BIDEN JR    DEMOCRAT   \n",
            "1    2020  Arizona       AZ     Cochise     DONALD J TRUMP  REPUBLICAN   \n",
            "2    2020  Arizona       AZ    Coconino  JOSEPH R BIDEN JR    DEMOCRAT   \n",
            "3    2020  Arizona       AZ        Gila     DONALD J TRUMP  REPUBLICAN   \n",
            "4    2020  Arizona       AZ      Graham     DONALD J TRUMP  REPUBLICAN   \n",
            "\n",
            "   candidatevotes  totalvotes      County Name State Name  ...  Females 65+ %  \\\n",
            "0           16460       35172    Apache County    Arizona  ...       0.166575   \n",
            "1           25934       60442   Cochise County    Arizona  ...       0.234248   \n",
            "2           39430       73272  Coconino County    Arizona  ...       0.129710   \n",
            "3           15005       27662      Gila County    Arizona  ...       0.293468   \n",
            "4            7289       14995    Graham County    Arizona  ...       0.158859   \n",
            "\n",
            "   White alone %  Black or African American alone %  less than $39,999 %  \\\n",
            "0       0.220138                           0.007600             0.556475   \n",
            "1       0.820843                           0.040793             0.396940   \n",
            "2       0.631307                           0.013560             0.345418   \n",
            "3       0.739962                           0.007261             0.426897   \n",
            "4       0.774932                           0.017831             0.362002   \n",
            "\n",
            "   more than $200,000 %  Regular high school diploma %  Master's degree %  \\\n",
            "0              0.006464                       0.281952           0.038854   \n",
            "1              0.027614                       0.193695           0.079766   \n",
            "2              0.052207                       0.192542           0.104241   \n",
            "3              0.025263                       0.237368           0.055762   \n",
            "4              0.018153                       0.225809           0.039096   \n",
            "\n",
            "   In labor force %  Not in labor force %  year_y  \n",
            "0          0.382457              0.617543    2020  \n",
            "1          0.503256              0.496744    2020  \n",
            "2          0.614906              0.385094    2020  \n",
            "3          0.466282              0.533718    2020  \n",
            "4          0.492790              0.507210    2020  \n",
            "\n",
            "[5 rows x 21 columns]\n"
          ]
        }
      ]
    },
    {
      "cell_type": "code",
      "source": [
        "merged_data = pd.concat([merged_2012, merged_2016, merged_2020], axis=0)\n",
        "\n",
        "# Save the merged data locally\n",
        "merged_data.to_csv('merged_data.csv', index=False)\n",
        "print(\"Merged data saved as merged_data.csv\")\n",
        "print(merged_data.head())"
      ],
      "metadata": {
        "colab": {
          "base_uri": "https://localhost:8080/"
        },
        "collapsed": true,
        "id": "PTsnpOECFz3G",
        "outputId": "11df80f2-d81b-41ff-d1ed-b5d9a7b2445a"
      },
      "execution_count": null,
      "outputs": [
        {
          "output_type": "stream",
          "name": "stdout",
          "text": [
            "Merged data saved as merged_data.csv\n",
            "   year_x    state state_po county_name     candidate       party  \\\n",
            "0    2012  Arizona       AZ      Apache  BARACK OBAMA    DEMOCRAT   \n",
            "1    2012  Arizona       AZ     Cochise   MITT ROMNEY  REPUBLICAN   \n",
            "2    2012  Arizona       AZ    Coconino  BARACK OBAMA    DEMOCRAT   \n",
            "3    2012  Arizona       AZ        Gila   MITT ROMNEY  REPUBLICAN   \n",
            "4    2012  Arizona       AZ      Graham   MITT ROMNEY  REPUBLICAN   \n",
            "\n",
            "   candidatevotes  totalvotes      County Name State Name  ...  Females 65+ %  \\\n",
            "0           17147       25848    Apache County    Arizona  ...       0.127219   \n",
            "1           29497       49003   Cochise County    Arizona  ...       0.185125   \n",
            "2           29257       51731  Coconino County    Arizona  ...       0.097482   \n",
            "3           13455       21528      Gila County    Arizona  ...       0.243020   \n",
            "4            8076       11855    Graham County    Arizona  ...       0.135922   \n",
            "\n",
            "   White alone %  Black or African American alone %  less than $39,999 %  \\\n",
            "0       0.239842                           0.002890             0.598109   \n",
            "1       0.802842                           0.039384             0.438521   \n",
            "2       0.626210                           0.013238             0.419966   \n",
            "3       0.791377                           0.004454             0.523142   \n",
            "4       0.753684                           0.020908             0.456232   \n",
            "\n",
            "   more than $200,000 %  Regular high school diploma %  Master's degree %  \\\n",
            "0              0.010349                       0.276767           0.032809   \n",
            "1              0.020866                       0.189967           0.067294   \n",
            "2              0.027626                       0.185110           0.088901   \n",
            "3              0.007755                       0.271080           0.048560   \n",
            "4              0.013706                       0.257743           0.043325   \n",
            "\n",
            "   In labor force %  Not in labor force %  year_y  \n",
            "0          0.452971              0.547029    2012  \n",
            "1          0.538091              0.461909    2012  \n",
            "2          0.667074              0.332926    2012  \n",
            "3          0.466888              0.533112    2012  \n",
            "4          0.506001              0.493999    2012  \n",
            "\n",
            "[5 rows x 21 columns]\n"
          ]
        }
      ]
    },
    {
      "cell_type": "code",
      "source": [
        "!curl ifconfig.me"
      ],
      "metadata": {
        "colab": {
          "base_uri": "https://localhost:8080/"
        },
        "id": "XAADC8ClhYng",
        "outputId": "7dec071a-bf92-49d7-de8c-9b7135133cdf"
      },
      "execution_count": null,
      "outputs": [
        {
          "output_type": "stream",
          "name": "stdout",
          "text": [
            "34.82.116.136"
          ]
        }
      ]
    },
    {
      "cell_type": "code",
      "source": [
        "!pip install google-cloud-sdk\n",
        "from google.colab import auth\n",
        "auth.authenticate_user()"
      ],
      "metadata": {
        "colab": {
          "base_uri": "https://localhost:8080/"
        },
        "id": "hg4a_6yXhas1",
        "outputId": "04244f12-c65a-4792-9c96-47c985c69a94"
      },
      "execution_count": null,
      "outputs": [
        {
          "output_type": "stream",
          "name": "stdout",
          "text": [
            "\u001b[31mERROR: Could not find a version that satisfies the requirement google-cloud-sdk (from versions: none)\u001b[0m\u001b[31m\n",
            "\u001b[0m\u001b[31mERROR: No matching distribution found for google-cloud-sdk\u001b[0m\u001b[31m\n",
            "\u001b[0m"
          ]
        }
      ]
    },
    {
      "cell_type": "code",
      "source": [
        "from sqlalchemy import create_engine\n",
        "\n",
        "# Database connection details\n",
        "db_username = 'root'\n",
        "db_password = 'election-data-project'\n",
        "public_ip = '35.199.15.59'  # Or your server IP\n",
        "db_name = 'outcomes_demographics'\n",
        "\n",
        "# Create a database engine\n",
        "engine = create_engine(f'mysql+pymysql://{db_username}:{db_password}@{public_ip}/{db_name}')\n",
        "\n",
        "# # Upload the DataFrame to the database\n",
        "# merged_data.to_sql('election_demographics', engine, if_exists='replace', index=False)\n",
        "\n",
        "\n",
        "# print(\"Data successfully uploaded to the database!\")\n",
        "\n",
        "try:\n",
        "  with engine.connect() as conn:\n",
        "    print(f\"Connected to database {db_name} at {public_ip}\")\n",
        "except Exception as e:\n",
        "  print(f\"Error connecting to database: {e}\")\n"
      ],
      "metadata": {
        "colab": {
          "base_uri": "https://localhost:8080/"
        },
        "id": "01jyj8mtE_ke",
        "outputId": "9f28b7d8-c123-4776-a29b-af39b7937f26"
      },
      "execution_count": null,
      "outputs": [
        {
          "output_type": "stream",
          "name": "stdout",
          "text": [
            "Error connecting to database: (pymysql.err.OperationalError) (2003, \"Can't connect to MySQL server on '35.199.15.59' (timed out)\")\n",
            "(Background on this error at: https://sqlalche.me/e/20/e3q8)\n"
          ]
        }
      ]
    },
    {
      "cell_type": "code",
      "source": [
        "from google.cloud import storage\n",
        "\n",
        "def upload_to_gcs(bucket_name, source_file_name, destination_blob_name):\n",
        "    client = storage.Client()\n",
        "    bucket = client.bucket(bucket_name)\n",
        "    blob = bucket.blob(destination_blob_name)\n",
        "    blob.upload_from_filename(source_file_name)\n",
        "    print(f\"File {source_file_name} uploaded to {destination_blob_name}.\")\n",
        "\n",
        "# Example: Upload the merged data to GCS\n",
        "upload_to_gcs('your-bucket-name', 'merged_data.csv', 'cleaned_data/merged_data.csv')"
      ],
      "metadata": {
        "id": "OJw9NnTMFM4D"
      },
      "execution_count": null,
      "outputs": []
    }
  ]
}