{
  "nbformat": 4,
  "nbformat_minor": 0,
  "metadata": {
    "colab": {
      "provenance": [],
      "authorship_tag": "ABX9TyPNnHzXFzy1Fv3MeKlbx4Ue",
      "include_colab_link": true
    },
    "kernelspec": {
      "name": "python3",
      "display_name": "Python 3"
    },
    "language_info": {
      "name": "python"
    }
  },
  "cells": [
    {
      "cell_type": "markdown",
      "metadata": {
        "id": "view-in-github",
        "colab_type": "text"
      },
      "source": [
        "<a href=\"https://colab.research.google.com/github/nw93929/DS2002FinalProject/blob/main/etl_pipeline_setup_implementation.ipynb\" target=\"_parent\"><img src=\"https://colab.research.google.com/assets/colab-badge.svg\" alt=\"Open In Colab\"/></a>"
      ]
    },
    {
      "cell_type": "code",
      "execution_count": 25,
      "metadata": {
        "colab": {
          "base_uri": "https://localhost:8080/"
        },
        "collapsed": true,
        "id": "kx1YECgnb2Ca",
        "outputId": "e94fdec8-740e-43d5-e4bf-c9dfb1f51c63"
      },
      "outputs": [
        {
          "output_type": "stream",
          "name": "stdout",
          "text": [
            "Requirement already satisfied: pandas in /usr/local/lib/python3.10/dist-packages (2.2.2)\n",
            "Requirement already satisfied: openpyxl in /usr/local/lib/python3.10/dist-packages (3.1.5)\n",
            "Requirement already satisfied: sqlalchemy in /usr/local/lib/python3.10/dist-packages (2.0.36)\n",
            "Requirement already satisfied: pymysql in /usr/local/lib/python3.10/dist-packages (1.1.1)\n",
            "Requirement already satisfied: google-cloud-storage in /usr/local/lib/python3.10/dist-packages (2.8.0)\n",
            "Requirement already satisfied: mysql-connector-python in /usr/local/lib/python3.10/dist-packages (9.1.0)\n",
            "Requirement already satisfied: google-auth in /usr/local/lib/python3.10/dist-packages (2.27.0)\n",
            "Requirement already satisfied: numpy>=1.22.4 in /usr/local/lib/python3.10/dist-packages (from pandas) (1.26.4)\n",
            "Requirement already satisfied: python-dateutil>=2.8.2 in /usr/local/lib/python3.10/dist-packages (from pandas) (2.8.2)\n",
            "Requirement already satisfied: pytz>=2020.1 in /usr/local/lib/python3.10/dist-packages (from pandas) (2024.2)\n",
            "Requirement already satisfied: tzdata>=2022.7 in /usr/local/lib/python3.10/dist-packages (from pandas) (2024.2)\n",
            "Requirement already satisfied: et-xmlfile in /usr/local/lib/python3.10/dist-packages (from openpyxl) (2.0.0)\n",
            "Requirement already satisfied: typing-extensions>=4.6.0 in /usr/local/lib/python3.10/dist-packages (from sqlalchemy) (4.12.2)\n",
            "Requirement already satisfied: greenlet!=0.4.17 in /usr/local/lib/python3.10/dist-packages (from sqlalchemy) (3.1.1)\n",
            "Requirement already satisfied: google-api-core!=2.0.*,!=2.1.*,!=2.2.*,!=2.3.0,<3.0.0dev,>=1.31.5 in /usr/local/lib/python3.10/dist-packages (from google-cloud-storage) (2.19.2)\n",
            "Requirement already satisfied: google-cloud-core<3.0dev,>=2.3.0 in /usr/local/lib/python3.10/dist-packages (from google-cloud-storage) (2.4.1)\n",
            "Requirement already satisfied: google-resumable-media>=2.3.2 in /usr/local/lib/python3.10/dist-packages (from google-cloud-storage) (2.7.2)\n",
            "Requirement already satisfied: requests<3.0.0dev,>=2.18.0 in /usr/local/lib/python3.10/dist-packages (from google-cloud-storage) (2.32.3)\n",
            "Requirement already satisfied: cachetools<6.0,>=2.0.0 in /usr/local/lib/python3.10/dist-packages (from google-auth) (5.5.0)\n",
            "Requirement already satisfied: pyasn1-modules>=0.2.1 in /usr/local/lib/python3.10/dist-packages (from google-auth) (0.4.1)\n",
            "Requirement already satisfied: rsa<5,>=3.1.4 in /usr/local/lib/python3.10/dist-packages (from google-auth) (4.9)\n",
            "Requirement already satisfied: googleapis-common-protos<2.0.dev0,>=1.56.2 in /usr/local/lib/python3.10/dist-packages (from google-api-core!=2.0.*,!=2.1.*,!=2.2.*,!=2.3.0,<3.0.0dev,>=1.31.5->google-cloud-storage) (1.66.0)\n",
            "Requirement already satisfied: protobuf!=3.20.0,!=3.20.1,!=4.21.0,!=4.21.1,!=4.21.2,!=4.21.3,!=4.21.4,!=4.21.5,<6.0.0.dev0,>=3.19.5 in /usr/local/lib/python3.10/dist-packages (from google-api-core!=2.0.*,!=2.1.*,!=2.2.*,!=2.3.0,<3.0.0dev,>=1.31.5->google-cloud-storage) (4.25.5)\n",
            "Requirement already satisfied: proto-plus<2.0.0dev,>=1.22.3 in /usr/local/lib/python3.10/dist-packages (from google-api-core!=2.0.*,!=2.1.*,!=2.2.*,!=2.3.0,<3.0.0dev,>=1.31.5->google-cloud-storage) (1.25.0)\n",
            "Requirement already satisfied: google-crc32c<2.0dev,>=1.0 in /usr/local/lib/python3.10/dist-packages (from google-resumable-media>=2.3.2->google-cloud-storage) (1.6.0)\n",
            "Requirement already satisfied: pyasn1<0.7.0,>=0.4.6 in /usr/local/lib/python3.10/dist-packages (from pyasn1-modules>=0.2.1->google-auth) (0.6.1)\n",
            "Requirement already satisfied: six>=1.5 in /usr/local/lib/python3.10/dist-packages (from python-dateutil>=2.8.2->pandas) (1.16.0)\n",
            "Requirement already satisfied: charset-normalizer<4,>=2 in /usr/local/lib/python3.10/dist-packages (from requests<3.0.0dev,>=2.18.0->google-cloud-storage) (3.4.0)\n",
            "Requirement already satisfied: idna<4,>=2.5 in /usr/local/lib/python3.10/dist-packages (from requests<3.0.0dev,>=2.18.0->google-cloud-storage) (3.10)\n",
            "Requirement already satisfied: urllib3<3,>=1.21.1 in /usr/local/lib/python3.10/dist-packages (from requests<3.0.0dev,>=2.18.0->google-cloud-storage) (2.2.3)\n",
            "Requirement already satisfied: certifi>=2017.4.17 in /usr/local/lib/python3.10/dist-packages (from requests<3.0.0dev,>=2.18.0->google-cloud-storage) (2024.8.30)\n"
          ]
        }
      ],
      "source": [
        "# Need to install necessary libraries\n",
        "!pip install pandas openpyxl sqlalchemy pymysql google-cloud-storage mysql-connector-python google-auth"
      ]
    },
    {
      "cell_type": "code",
      "source": [
        "# Loading necessary data into data frames\n",
        "import pandas as pd\n",
        "# import numpy as np\n",
        "outcomes = pd.read_excel('WinningPartyByCounties.xlsx')\n",
        "demographics2012 = pd.read_excel('demographicsswingstates2012.xlsx')\n",
        "demographics2016 = pd.read_excel('demographicsswingstates2016.xlsx')\n",
        "demographics2020 = pd.read_excel('demographicswingstates2020.xlsx')"
      ],
      "metadata": {
        "id": "WV1LIRXpcqi0"
      },
      "execution_count": 26,
      "outputs": []
    },
    {
      "cell_type": "code",
      "source": [
        "# Clean outcomes data\n",
        "outcomes['state'] = outcomes['state'].str.capitalize()\n",
        "outcomes['county_name'] = outcomes['county_name'].str.capitalize()\n",
        "columns_to_drop = ['office', 'version', 'county_fips', 'mode']\n",
        "outcomes_cleaned = outcomes.drop(columns=columns_to_drop)\n",
        "\n",
        "# Validate the changes to outcomes\n",
        "print(outcomes_cleaned.head())"
      ],
      "metadata": {
        "colab": {
          "base_uri": "https://localhost:8080/"
        },
        "collapsed": true,
        "id": "jthilo9Lo6Ih",
        "outputId": "ddaf6a26-354a-42c4-b5bb-b042b17d60d9"
      },
      "execution_count": 27,
      "outputs": [
        {
          "output_type": "stream",
          "name": "stdout",
          "text": [
            "   year    state state_po county_name     candidate       party  \\\n",
            "0  2012  Arizona       AZ      Apache  BARACK OBAMA    DEMOCRAT   \n",
            "1  2012  Arizona       AZ     Cochise   MITT ROMNEY  REPUBLICAN   \n",
            "2  2012  Arizona       AZ    Coconino  BARACK OBAMA    DEMOCRAT   \n",
            "3  2012  Arizona       AZ        Gila   MITT ROMNEY  REPUBLICAN   \n",
            "4  2012  Arizona       AZ      Graham   MITT ROMNEY  REPUBLICAN   \n",
            "\n",
            "   candidatevotes  totalvotes  \n",
            "0           17147       25848  \n",
            "1           29497       49003  \n",
            "2           29257       51731  \n",
            "3           13455       21528  \n",
            "4            8076       11855  \n"
          ]
        }
      ]
    },
    {
      "cell_type": "code",
      "source": [
        "# keep only necessary columns for analysis\n",
        "columns_to_keep = ['County Name', 'State Name', 'Males 18-24 %', 'Females 65+ %',\n",
        "                   'White alone %', 'Black or African American alone %',\n",
        "                   'less than $39,999 %', 'more than $200,000 %',\n",
        "                   'Regular high school diploma %', \"Master's degree %\",\n",
        "                   'In labor force %', 'Not in labor force %']\n",
        "\n",
        "columns_to_keep_2016 = ['County Name', 'State Name', 'Males 18-24 %', 'Females 65+ %',\n",
        "                   'White alone %', 'Black or African American alone %',\n",
        "                   'less than $39,999 %', 'more than $200,000 %',\n",
        "                   'Regular high school diploma %', \"Master's degree %\",\n",
        "                   'In labor force Percentage %', 'Not in labor force Percentage %']\n",
        "\n",
        "# Clean demographics data\n",
        "demographics2012_cleaned = demographics2012[columns_to_keep]\n",
        "demographics2016_cleaned = demographics2016[columns_to_keep_2016].rename(\n",
        "    columns={\n",
        "        \"In labor force Percentage %\": \"In labor force %\",\n",
        "        \"Not in labor force Percentage %\": \"Not in labor force %\"\n",
        "    }\n",
        ")\n",
        "demographics2020_cleaned = demographics2020[columns_to_keep]\n",
        "\n",
        "# Display cleaned demographics data\n",
        "print(demographics2012_cleaned.head())\n",
        "print(demographics2016_cleaned.head())\n",
        "print(demographics2020_cleaned.head())"
      ],
      "metadata": {
        "colab": {
          "base_uri": "https://localhost:8080/"
        },
        "collapsed": true,
        "id": "lLbHJX4P18ON",
        "outputId": "c10dfc36-a963-4388-852b-227b89422059"
      },
      "execution_count": 28,
      "outputs": [
        {
          "output_type": "stream",
          "name": "stdout",
          "text": [
            "       County Name State Name  Males 18-24 %  Females 65+ %  White alone %  \\\n",
            "0    Apache County    Arizona       0.108152       0.127219       0.239842   \n",
            "1   Cochise County    Arizona       0.106513       0.185125       0.802842   \n",
            "2  Coconino County    Arizona       0.174577       0.097482       0.626210   \n",
            "3      Gila County    Arizona       0.078577       0.243020       0.791377   \n",
            "4    Graham County    Arizona       0.123646       0.135922       0.753684   \n",
            "\n",
            "   Black or African American alone %  less than $39,999 %  \\\n",
            "0                           0.002890             0.598109   \n",
            "1                           0.039384             0.438521   \n",
            "2                           0.013238             0.419966   \n",
            "3                           0.004454             0.523142   \n",
            "4                           0.020908             0.456232   \n",
            "\n",
            "   more than $200,000 %  Regular high school diploma %  Master's degree %  \\\n",
            "0              0.010349                       0.276767           0.032809   \n",
            "1              0.020866                       0.189967           0.067294   \n",
            "2              0.027626                       0.185110           0.088901   \n",
            "3              0.007755                       0.271080           0.048560   \n",
            "4              0.013706                       0.257743           0.043325   \n",
            "\n",
            "   In labor force %  Not in labor force %  \n",
            "0          0.452971              0.547029  \n",
            "1          0.538091              0.461909  \n",
            "2          0.667074              0.332926  \n",
            "3          0.466888              0.533112  \n",
            "4          0.506001              0.493999  \n",
            "       County Name State Name  Males 18-24 %  Females 65+ %  White alone %  \\\n",
            "0    Apache County    Arizona       0.105456       0.142354       0.225403   \n",
            "1   Cochise County    Arizona       0.098405       0.209632       0.828042   \n",
            "2  Coconino County    Arizona       0.189641       0.113310       0.632569   \n",
            "3      Gila County    Arizona       0.074720       0.272442       0.786250   \n",
            "4    Graham County    Arizona       0.112319       0.142857       0.788723   \n",
            "\n",
            "   Black or African American alone %  less than $39,999 %  \\\n",
            "0                           0.004990             0.580383   \n",
            "1                           0.039601             0.450152   \n",
            "2                           0.015471             0.403792   \n",
            "3                           0.006243             0.490798   \n",
            "4                           0.019745             0.430692   \n",
            "\n",
            "   more than $200,000 %  Regular high school diploma %  Master's degree %  \\\n",
            "0              0.004909                       0.301991           0.032435   \n",
            "1              0.026732                       0.180876           0.066757   \n",
            "2              0.039606                       0.186250           0.098827   \n",
            "3              0.014154                       0.240838           0.051534   \n",
            "4              0.012368                       0.240259           0.041051   \n",
            "\n",
            "   In labor force %  Not in labor force %  \n",
            "0          0.404069              0.595931  \n",
            "1          0.498036              0.501964  \n",
            "2          0.638792              0.361208  \n",
            "3          0.471963              0.528037  \n",
            "4          0.496903              0.503097  \n",
            "       County Name State Name  Males 18-24 %  Females 65+ %  White alone %  \\\n",
            "0    Apache County    Arizona       0.096671       0.166575       0.220138   \n",
            "1   Cochise County    Arizona       0.095913       0.234248       0.820843   \n",
            "2  Coconino County    Arizona       0.189108       0.129710       0.631307   \n",
            "3      Gila County    Arizona       0.066289       0.293468       0.739962   \n",
            "4    Graham County    Arizona       0.110861       0.158859       0.774932   \n",
            "\n",
            "   Black or African American alone %  less than $39,999 %  \\\n",
            "0                           0.007600             0.556475   \n",
            "1                           0.040793             0.396940   \n",
            "2                           0.013560             0.345418   \n",
            "3                           0.007261             0.426897   \n",
            "4                           0.017831             0.362002   \n",
            "\n",
            "   more than $200,000 %  Regular high school diploma %  Master's degree %  \\\n",
            "0              0.006464                       0.281952           0.038854   \n",
            "1              0.027614                       0.193695           0.079766   \n",
            "2              0.052207                       0.192542           0.104241   \n",
            "3              0.025263                       0.237368           0.055762   \n",
            "4              0.018153                       0.225809           0.039096   \n",
            "\n",
            "   In labor force %  Not in labor force %  \n",
            "0          0.382457              0.617543  \n",
            "1          0.503256              0.496744  \n",
            "2          0.614906              0.385094  \n",
            "3          0.466282              0.533718  \n",
            "4          0.492790              0.507210  \n"
          ]
        }
      ]
    },
    {
      "cell_type": "code",
      "source": [
        "# Add the 'year' column using .loc\n",
        "demographics2012_cleaned = demographics2012_cleaned.copy()\n",
        "demographics2016_cleaned = demographics2016_cleaned.copy()\n",
        "demographics2020_cleaned = demographics2020_cleaned.copy()\n",
        "\n",
        "demographics2012_cleaned.loc[:, 'year'] = 2012\n",
        "demographics2016_cleaned.loc[:, 'year'] = 2016\n",
        "demographics2020_cleaned.loc[:, 'year'] = 2020\n",
        "\n",
        "# Clean 'county_name' and 'state' columns for compatibility with outcomes\n",
        "for df in [demographics2012_cleaned, demographics2016_cleaned, demographics2020_cleaned]:\n",
        "    # Remove \"County\" suffix and ensure consistent capitalization\n",
        "    df.loc[:, 'county_name'] = df['County Name'].str.replace(r'\\s*County\\s*$', '', regex=True).str.strip().str.title()\n",
        "    df.loc[:, 'state'] = df['State Name'].str.strip().str.title()"
      ],
      "metadata": {
        "collapsed": true,
        "id": "vzxa_8E-Bwkk"
      },
      "execution_count": 29,
      "outputs": []
    },
    {
      "cell_type": "code",
      "source": [
        "\n",
        "# Merge datasets\n",
        "merged_2012 = pd.merge(\n",
        "    outcomes_cleaned[outcomes_cleaned['year'] == 2012],\n",
        "    demographics2012_cleaned,\n",
        "    on=['county_name', 'state'],\n",
        "    how='inner'\n",
        ")\n",
        "\n",
        "merged_2016 = pd.merge(\n",
        "    outcomes_cleaned[outcomes_cleaned['year'] == 2016],\n",
        "    demographics2016_cleaned,\n",
        "    on=['county_name', 'state'],\n",
        "    how='inner'\n",
        ")\n",
        "\n",
        "merged_2020 = pd.merge(\n",
        "    outcomes_cleaned[outcomes_cleaned['year'] == 2020],\n",
        "    demographics2020_cleaned,\n",
        "    on=['county_name', 'state'],\n",
        "    how='inner'\n",
        ")\n",
        "\n",
        "# Save merged data\n",
        "merged_2012.to_csv('merged_data_2012.csv', index=False)\n",
        "merged_2016.to_csv('merged_data_2016.csv', index=False)\n",
        "merged_2020.to_csv('merged_data_2020.csv', index=False)\n",
        "\n",
        "# Verify the merged data\n",
        "print(\"Merged 2012 Data:\")\n",
        "print(merged_2012.head())\n",
        "\n",
        "print(\"\\nMerged 2016 Data:\")\n",
        "print(merged_2016.head())\n",
        "\n",
        "print(\"\\nMerged 2020 Data:\")\n",
        "print(merged_2020.head())"
      ],
      "metadata": {
        "colab": {
          "base_uri": "https://localhost:8080/"
        },
        "collapsed": true,
        "id": "3bovRU5D_xIz",
        "outputId": "4dc8b629-ebb4-445b-a9be-ead693e63c4d"
      },
      "execution_count": 30,
      "outputs": [
        {
          "output_type": "stream",
          "name": "stdout",
          "text": [
            "Merged 2012 Data:\n",
            "   year_x    state state_po county_name     candidate       party  \\\n",
            "0    2012  Arizona       AZ      Apache  BARACK OBAMA    DEMOCRAT   \n",
            "1    2012  Arizona       AZ     Cochise   MITT ROMNEY  REPUBLICAN   \n",
            "2    2012  Arizona       AZ    Coconino  BARACK OBAMA    DEMOCRAT   \n",
            "3    2012  Arizona       AZ        Gila   MITT ROMNEY  REPUBLICAN   \n",
            "4    2012  Arizona       AZ      Graham   MITT ROMNEY  REPUBLICAN   \n",
            "\n",
            "   candidatevotes  totalvotes      County Name State Name  ...  Females 65+ %  \\\n",
            "0           17147       25848    Apache County    Arizona  ...       0.127219   \n",
            "1           29497       49003   Cochise County    Arizona  ...       0.185125   \n",
            "2           29257       51731  Coconino County    Arizona  ...       0.097482   \n",
            "3           13455       21528      Gila County    Arizona  ...       0.243020   \n",
            "4            8076       11855    Graham County    Arizona  ...       0.135922   \n",
            "\n",
            "   White alone %  Black or African American alone %  less than $39,999 %  \\\n",
            "0       0.239842                           0.002890             0.598109   \n",
            "1       0.802842                           0.039384             0.438521   \n",
            "2       0.626210                           0.013238             0.419966   \n",
            "3       0.791377                           0.004454             0.523142   \n",
            "4       0.753684                           0.020908             0.456232   \n",
            "\n",
            "   more than $200,000 %  Regular high school diploma %  Master's degree %  \\\n",
            "0              0.010349                       0.276767           0.032809   \n",
            "1              0.020866                       0.189967           0.067294   \n",
            "2              0.027626                       0.185110           0.088901   \n",
            "3              0.007755                       0.271080           0.048560   \n",
            "4              0.013706                       0.257743           0.043325   \n",
            "\n",
            "   In labor force %  Not in labor force %  year_y  \n",
            "0          0.452971              0.547029    2012  \n",
            "1          0.538091              0.461909    2012  \n",
            "2          0.667074              0.332926    2012  \n",
            "3          0.466888              0.533112    2012  \n",
            "4          0.506001              0.493999    2012  \n",
            "\n",
            "[5 rows x 21 columns]\n",
            "\n",
            "Merged 2016 Data:\n",
            "   year_x    state state_po county_name        candidate       party  \\\n",
            "0    2016  Arizona       AZ      Apache  HILLARY CLINTON    DEMOCRAT   \n",
            "1    2016  Arizona       AZ     Cochise     DONALD TRUMP  REPUBLICAN   \n",
            "2    2016  Arizona       AZ    Coconino  HILLARY CLINTON    DEMOCRAT   \n",
            "3    2016  Arizona       AZ        Gila     DONALD TRUMP  REPUBLICAN   \n",
            "4    2016  Arizona       AZ      Graham     DONALD TRUMP  REPUBLICAN   \n",
            "\n",
            "   candidatevotes  totalvotes      County Name State Name  ...  Females 65+ %  \\\n",
            "0           17083       27661    Apache County    Arizona  ...       0.142354   \n",
            "1           28092       50015   Cochise County    Arizona  ...       0.209632   \n",
            "2           32404       59784  Coconino County    Arizona  ...       0.113310   \n",
            "3           14182       22312      Gila County    Arizona  ...       0.272442   \n",
            "4            8025       12134    Graham County    Arizona  ...       0.142857   \n",
            "\n",
            "   White alone %  Black or African American alone %  less than $39,999 %  \\\n",
            "0       0.225403                           0.004990             0.580383   \n",
            "1       0.828042                           0.039601             0.450152   \n",
            "2       0.632569                           0.015471             0.403792   \n",
            "3       0.786250                           0.006243             0.490798   \n",
            "4       0.788723                           0.019745             0.430692   \n",
            "\n",
            "   more than $200,000 %  Regular high school diploma %  Master's degree %  \\\n",
            "0              0.004909                       0.301991           0.032435   \n",
            "1              0.026732                       0.180876           0.066757   \n",
            "2              0.039606                       0.186250           0.098827   \n",
            "3              0.014154                       0.240838           0.051534   \n",
            "4              0.012368                       0.240259           0.041051   \n",
            "\n",
            "   In labor force %  Not in labor force %  year_y  \n",
            "0          0.404069              0.595931    2016  \n",
            "1          0.498036              0.501964    2016  \n",
            "2          0.638792              0.361208    2016  \n",
            "3          0.471963              0.528037    2016  \n",
            "4          0.496903              0.503097    2016  \n",
            "\n",
            "[5 rows x 21 columns]\n",
            "\n",
            "Merged 2020 Data:\n",
            "   year_x    state state_po county_name          candidate       party  \\\n",
            "0    2020  Arizona       AZ      Apache  JOSEPH R BIDEN JR    DEMOCRAT   \n",
            "1    2020  Arizona       AZ     Cochise     DONALD J TRUMP  REPUBLICAN   \n",
            "2    2020  Arizona       AZ    Coconino  JOSEPH R BIDEN JR    DEMOCRAT   \n",
            "3    2020  Arizona       AZ        Gila     DONALD J TRUMP  REPUBLICAN   \n",
            "4    2020  Arizona       AZ      Graham     DONALD J TRUMP  REPUBLICAN   \n",
            "\n",
            "   candidatevotes  totalvotes      County Name State Name  ...  Females 65+ %  \\\n",
            "0           16460       35172    Apache County    Arizona  ...       0.166575   \n",
            "1           25934       60442   Cochise County    Arizona  ...       0.234248   \n",
            "2           39430       73272  Coconino County    Arizona  ...       0.129710   \n",
            "3           15005       27662      Gila County    Arizona  ...       0.293468   \n",
            "4            7289       14995    Graham County    Arizona  ...       0.158859   \n",
            "\n",
            "   White alone %  Black or African American alone %  less than $39,999 %  \\\n",
            "0       0.220138                           0.007600             0.556475   \n",
            "1       0.820843                           0.040793             0.396940   \n",
            "2       0.631307                           0.013560             0.345418   \n",
            "3       0.739962                           0.007261             0.426897   \n",
            "4       0.774932                           0.017831             0.362002   \n",
            "\n",
            "   more than $200,000 %  Regular high school diploma %  Master's degree %  \\\n",
            "0              0.006464                       0.281952           0.038854   \n",
            "1              0.027614                       0.193695           0.079766   \n",
            "2              0.052207                       0.192542           0.104241   \n",
            "3              0.025263                       0.237368           0.055762   \n",
            "4              0.018153                       0.225809           0.039096   \n",
            "\n",
            "   In labor force %  Not in labor force %  year_y  \n",
            "0          0.382457              0.617543    2020  \n",
            "1          0.503256              0.496744    2020  \n",
            "2          0.614906              0.385094    2020  \n",
            "3          0.466282              0.533718    2020  \n",
            "4          0.492790              0.507210    2020  \n",
            "\n",
            "[5 rows x 21 columns]\n"
          ]
        }
      ]
    },
    {
      "cell_type": "code",
      "source": [
        "# Combine datasets\n",
        "merged_data = pd.concat([merged_2012, merged_2016, merged_2020], axis=0)\n",
        "\n",
        "# Drop 'year_y' and rename 'year_x' to 'year'\n",
        "if 'year_y' in merged_data.columns:\n",
        "    merged_data = merged_data.drop(columns=['year_y'])\n",
        "if 'year_x' in merged_data.columns:\n",
        "    merged_data = merged_data.rename(columns={'year_x': 'year'})\n",
        "\n",
        "# Save the cleaned merged data locally\n",
        "merged_data.to_csv('merged_data.csv', index=False)\n",
        "print(\"Merged data saved as merged_data.csv\")\n",
        "print(merged_data.head())"
      ],
      "metadata": {
        "colab": {
          "base_uri": "https://localhost:8080/"
        },
        "collapsed": true,
        "id": "PTsnpOECFz3G",
        "outputId": "60043f48-3eb1-496b-8e54-afc25e3330da"
      },
      "execution_count": 31,
      "outputs": [
        {
          "output_type": "stream",
          "name": "stdout",
          "text": [
            "Merged data saved as merged_data.csv\n",
            "   year    state state_po county_name     candidate       party  \\\n",
            "0  2012  Arizona       AZ      Apache  BARACK OBAMA    DEMOCRAT   \n",
            "1  2012  Arizona       AZ     Cochise   MITT ROMNEY  REPUBLICAN   \n",
            "2  2012  Arizona       AZ    Coconino  BARACK OBAMA    DEMOCRAT   \n",
            "3  2012  Arizona       AZ        Gila   MITT ROMNEY  REPUBLICAN   \n",
            "4  2012  Arizona       AZ      Graham   MITT ROMNEY  REPUBLICAN   \n",
            "\n",
            "   candidatevotes  totalvotes      County Name State Name  Males 18-24 %  \\\n",
            "0           17147       25848    Apache County    Arizona       0.108152   \n",
            "1           29497       49003   Cochise County    Arizona       0.106513   \n",
            "2           29257       51731  Coconino County    Arizona       0.174577   \n",
            "3           13455       21528      Gila County    Arizona       0.078577   \n",
            "4            8076       11855    Graham County    Arizona       0.123646   \n",
            "\n",
            "   Females 65+ %  White alone %  Black or African American alone %  \\\n",
            "0       0.127219       0.239842                           0.002890   \n",
            "1       0.185125       0.802842                           0.039384   \n",
            "2       0.097482       0.626210                           0.013238   \n",
            "3       0.243020       0.791377                           0.004454   \n",
            "4       0.135922       0.753684                           0.020908   \n",
            "\n",
            "   less than $39,999 %  more than $200,000 %  Regular high school diploma %  \\\n",
            "0             0.598109              0.010349                       0.276767   \n",
            "1             0.438521              0.020866                       0.189967   \n",
            "2             0.419966              0.027626                       0.185110   \n",
            "3             0.523142              0.007755                       0.271080   \n",
            "4             0.456232              0.013706                       0.257743   \n",
            "\n",
            "   Master's degree %  In labor force %  Not in labor force %  \n",
            "0           0.032809          0.452971              0.547029  \n",
            "1           0.067294          0.538091              0.461909  \n",
            "2           0.088901          0.667074              0.332926  \n",
            "3           0.048560          0.466888              0.533112  \n",
            "4           0.043325          0.506001              0.493999  \n"
          ]
        }
      ]
    },
    {
      "cell_type": "code",
      "source": [
        "from sqlalchemy import create_engine, text\n",
        "\n",
        "# Database connection details\n",
        "db_username = 'root'\n",
        "db_password = 'election-project-data'\n",
        "public_ip = '35.199.15.59'\n",
        "db_name = 'outcomes-demographics'\n",
        "\n",
        "# Create a database engine\n",
        "engine = create_engine(f'mysql+pymysql://{db_username}:{db_password}@{public_ip}/{db_name}')\n",
        "\n",
        "# Define a table creation query\n",
        "create_table_query = \"\"\"\n",
        "CREATE TABLE outcomes_demographics (\n",
        "    id INT AUTO_INCREMENT PRIMARY KEY,\n",
        "    year INT,\n",
        "    state VARCHAR(255),\n",
        "    state_po VARCHAR(255),\n",
        "    county_name VARCHAR(255),\n",
        "    candidate VARCHAR(255),\n",
        "    party VARCHAR(255),\n",
        "    candidatevotes INT,\n",
        "    totalvotes INT,\n",
        "    state_name VARCHAR(255),\n",
        "    males_18_24 FLOAT,\n",
        "    females_65_plus FLOAT,\n",
        "    white_alone FLOAT,\n",
        "    black_or_african_american_alone FLOAT,\n",
        "    less_than_39999 FLOAT,\n",
        "    more_than_200000 FLOAT,\n",
        "    regular_high_school_diploma FLOAT,\n",
        "    masters_degree FLOAT,\n",
        "    in_labor_force FLOAT,\n",
        "    not_in_labor_force FLOAT\n",
        ");\n",
        "\"\"\"\n",
        "\n",
        "# Execute the query to create the table\n",
        "try:\n",
        "    with engine.connect() as conn:\n",
        "        conn.execute(text(create_table_query))\n",
        "        print(\"Table 'outcomes_demographics' created or already exists.\")\n",
        "except Exception as e:\n",
        "    print(f\"Error creating table: {e}\")"
      ],
      "metadata": {
        "colab": {
          "base_uri": "https://localhost:8080/"
        },
        "id": "01jyj8mtE_ke",
        "outputId": "d73e59ba-397a-462d-8382-d227f90b7ad7"
      },
      "execution_count": 35,
      "outputs": [
        {
          "output_type": "stream",
          "name": "stdout",
          "text": [
            "Table 'outcomes_demographics' created or already exists.\n"
          ]
        }
      ]
    },
    {
      "cell_type": "code",
      "source": [
        "# Load the CSV data\n",
        "merged_data = pd.read_csv('merged_data.csv')\n",
        "\n",
        "# Upload the data to the MySQL table\n",
        "try:\n",
        "    merged_data.to_sql('outcomes_demographics', con=engine, if_exists='replace', index=False)\n",
        "    print(\"Data uploaded successfully to 'outcomes_demographics'.\")\n",
        "except Exception as e:\n",
        "    print(f\"Error uploading data: {e}\")"
      ],
      "metadata": {
        "colab": {
          "base_uri": "https://localhost:8080/"
        },
        "id": "P2bRgjzm_v78",
        "outputId": "75a2030e-f5c8-40b7-e42f-c5b9b8c5be8a"
      },
      "execution_count": 36,
      "outputs": [
        {
          "output_type": "stream",
          "name": "stdout",
          "text": [
            "Data uploaded successfully to 'outcomes_demographics'.\n"
          ]
        }
      ]
    },
    {
      "cell_type": "code",
      "source": [
        "try:\n",
        "    with engine.connect() as conn:\n",
        "        result = conn.execute(text(\"SELECT COUNT(*) FROM outcomes_demographics;\"))\n",
        "        row_count = result.fetchone()[0]\n",
        "        # column_count = len(result.keys())\n",
        "        print(f\"Number of rows in 'outcomes_demographics': {row_count}\")\n",
        "        # print(f\"Number of columns in 'outcomes_demographics': {column_count}\")\n",
        "except Exception as e:\n",
        "    print(f\"Error verifying data: {e}\")"
      ],
      "metadata": {
        "colab": {
          "base_uri": "https://localhost:8080/"
        },
        "id": "_YtP--0uzt3R",
        "outputId": "c851954d-bed4-476a-f13d-696626a81f1e"
      },
      "execution_count": 40,
      "outputs": [
        {
          "output_type": "stream",
          "name": "stdout",
          "text": [
            "Number of rows in 'outcomes_demographics': 1191\n",
            "Number of columns in 'outcomes_demographics': 1\n"
          ]
        }
      ]
    },
    {
      "cell_type": "code",
      "source": [
        "import os\n",
        "from google.cloud import storage\n",
        "os.environ['GOOGLE_APPLICATION_CREDENTIALS'] = '/content/ds-final-project-443519-ba17067a570e.json'\n",
        "\n",
        "# Initialize the client\n",
        "client = storage.Client()\n",
        "\n",
        "# List buckets\n",
        "buckets = list(client.list_buckets())\n",
        "print(\"Buckets in the project:\")\n",
        "for bucket in buckets:\n",
        "    print(bucket.name)"
      ],
      "metadata": {
        "colab": {
          "base_uri": "https://localhost:8080/"
        },
        "id": "STYAPyJ4KjvR",
        "outputId": "f2b0f838-7b7a-48b6-c5c3-362ee19988d9"
      },
      "execution_count": 42,
      "outputs": [
        {
          "output_type": "stream",
          "name": "stdout",
          "text": [
            "Buckets in the project:\n",
            "ds-final-project\n"
          ]
        }
      ]
    },
    {
      "cell_type": "code",
      "source": [
        "def upload_to_gcs(bucket_name, source_file_name, destination_blob_name):\n",
        "    client = storage.Client()\n",
        "    bucket = client.bucket(bucket_name)\n",
        "    blob = bucket.blob(destination_blob_name)\n",
        "    blob.upload_from_filename(source_file_name)\n",
        "    print(f\"File {source_file_name} uploaded to {destination_blob_name}.\")\n",
        "\n",
        "upload_to_gcs('ds-final-project', 'merged_data.csv', 'gs://ds-final-project/')"
      ],
      "metadata": {
        "id": "OJw9NnTMFM4D",
        "colab": {
          "base_uri": "https://localhost:8080/"
        },
        "outputId": "a61214df-e4f3-42ec-9162-d380902d3737"
      },
      "execution_count": 43,
      "outputs": [
        {
          "output_type": "stream",
          "name": "stdout",
          "text": [
            "File merged_data.csv uploaded to gs://ds-final-project/.\n"
          ]
        }
      ]
    }
  ]
}