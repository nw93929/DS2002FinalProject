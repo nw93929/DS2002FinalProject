{
  "nbformat": 4,
  "nbformat_minor": 0,
  "metadata": {
    "colab": {
      "provenance": [],
      "include_colab_link": true
    },
    "kernelspec": {
      "name": "python3",
      "display_name": "Python 3"
    },
    "language_info": {
      "name": "python"
    }
  },
  "cells": [
    {
      "cell_type": "markdown",
      "metadata": {
        "id": "view-in-github",
        "colab_type": "text"
      },
      "source": [
        "<a href=\"https://colab.research.google.com/github/nw93929/DS2002FinalProject/blob/main/SCRIPTS/etl_pipeline_setup_implementation.ipynb\" target=\"_parent\"><img src=\"https://colab.research.google.com/assets/colab-badge.svg\" alt=\"Open In Colab\"/></a>"
      ]
    },
    {
      "cell_type": "code",
      "source": [
        "!rm -rf DS2002FinalProject\n",
        "!git clone https://github.com/nw93929/DS2002FinalProject.git\n",
        "%cd DS2002FinalProject"
      ],
      "metadata": {
        "id": "3uyH1gAiojPo",
        "colab": {
          "base_uri": "https://localhost:8080/"
        },
        "outputId": "6051d306-d7e4-4b2b-dc29-95f846a24c22"
      },
      "execution_count": null,
      "outputs": [
        {
          "output_type": "stream",
          "name": "stdout",
          "text": [
            "Cloning into 'DS2002FinalProject'...\n",
            "remote: Enumerating objects: 155, done.\u001b[K\n",
            "remote: Counting objects: 100% (155/155), done.\u001b[K\n",
            "remote: Compressing objects: 100% (100/100), done.\u001b[K\n",
            "remote: Total 155 (delta 76), reused 116 (delta 49), pack-reused 0 (from 0)\u001b[K\n",
            "Receiving objects: 100% (155/155), 16.64 MiB | 30.33 MiB/s, done.\n",
            "Resolving deltas: 100% (76/76), done.\n",
            "/content/DS2002FinalProject\n"
          ]
        }
      ]
    },
    {
      "cell_type": "code",
      "execution_count": null,
      "metadata": {
        "colab": {
          "base_uri": "https://localhost:8080/"
        },
        "collapsed": true,
        "id": "kx1YECgnb2Ca",
        "outputId": "3986b473-7e87-490a-d635-0abd8e309a8b"
      },
      "outputs": [
        {
          "output_type": "stream",
          "name": "stdout",
          "text": [
            "Requirement already satisfied: pandas in /usr/local/lib/python3.10/dist-packages (2.2.2)\n",
            "Requirement already satisfied: openpyxl in /usr/local/lib/python3.10/dist-packages (3.1.5)\n",
            "Requirement already satisfied: sqlalchemy in /usr/local/lib/python3.10/dist-packages (2.0.36)\n",
            "Requirement already satisfied: pymysql in /usr/local/lib/python3.10/dist-packages (1.1.1)\n",
            "Requirement already satisfied: google-cloud-storage in /usr/local/lib/python3.10/dist-packages (2.8.0)\n",
            "Requirement already satisfied: numpy>=1.22.4 in /usr/local/lib/python3.10/dist-packages (from pandas) (1.26.4)\n",
            "Requirement already satisfied: python-dateutil>=2.8.2 in /usr/local/lib/python3.10/dist-packages (from pandas) (2.8.2)\n",
            "Requirement already satisfied: pytz>=2020.1 in /usr/local/lib/python3.10/dist-packages (from pandas) (2024.2)\n",
            "Requirement already satisfied: tzdata>=2022.7 in /usr/local/lib/python3.10/dist-packages (from pandas) (2024.2)\n",
            "Requirement already satisfied: et-xmlfile in /usr/local/lib/python3.10/dist-packages (from openpyxl) (2.0.0)\n",
            "Requirement already satisfied: typing-extensions>=4.6.0 in /usr/local/lib/python3.10/dist-packages (from sqlalchemy) (4.12.2)\n",
            "Requirement already satisfied: greenlet!=0.4.17 in /usr/local/lib/python3.10/dist-packages (from sqlalchemy) (3.1.1)\n",
            "Requirement already satisfied: google-auth<3.0dev,>=1.25.0 in /usr/local/lib/python3.10/dist-packages (from google-cloud-storage) (2.27.0)\n",
            "Requirement already satisfied: google-api-core!=2.0.*,!=2.1.*,!=2.2.*,!=2.3.0,<3.0.0dev,>=1.31.5 in /usr/local/lib/python3.10/dist-packages (from google-cloud-storage) (2.19.2)\n",
            "Requirement already satisfied: google-cloud-core<3.0dev,>=2.3.0 in /usr/local/lib/python3.10/dist-packages (from google-cloud-storage) (2.4.1)\n",
            "Requirement already satisfied: google-resumable-media>=2.3.2 in /usr/local/lib/python3.10/dist-packages (from google-cloud-storage) (2.7.2)\n",
            "Requirement already satisfied: requests<3.0.0dev,>=2.18.0 in /usr/local/lib/python3.10/dist-packages (from google-cloud-storage) (2.32.3)\n",
            "Requirement already satisfied: googleapis-common-protos<2.0.dev0,>=1.56.2 in /usr/local/lib/python3.10/dist-packages (from google-api-core!=2.0.*,!=2.1.*,!=2.2.*,!=2.3.0,<3.0.0dev,>=1.31.5->google-cloud-storage) (1.66.0)\n",
            "Requirement already satisfied: protobuf!=3.20.0,!=3.20.1,!=4.21.0,!=4.21.1,!=4.21.2,!=4.21.3,!=4.21.4,!=4.21.5,<6.0.0.dev0,>=3.19.5 in /usr/local/lib/python3.10/dist-packages (from google-api-core!=2.0.*,!=2.1.*,!=2.2.*,!=2.3.0,<3.0.0dev,>=1.31.5->google-cloud-storage) (4.25.5)\n",
            "Requirement already satisfied: proto-plus<2.0.0dev,>=1.22.3 in /usr/local/lib/python3.10/dist-packages (from google-api-core!=2.0.*,!=2.1.*,!=2.2.*,!=2.3.0,<3.0.0dev,>=1.31.5->google-cloud-storage) (1.25.0)\n",
            "Requirement already satisfied: cachetools<6.0,>=2.0.0 in /usr/local/lib/python3.10/dist-packages (from google-auth<3.0dev,>=1.25.0->google-cloud-storage) (5.5.0)\n",
            "Requirement already satisfied: pyasn1-modules>=0.2.1 in /usr/local/lib/python3.10/dist-packages (from google-auth<3.0dev,>=1.25.0->google-cloud-storage) (0.4.1)\n",
            "Requirement already satisfied: rsa<5,>=3.1.4 in /usr/local/lib/python3.10/dist-packages (from google-auth<3.0dev,>=1.25.0->google-cloud-storage) (4.9)\n",
            "Requirement already satisfied: google-crc32c<2.0dev,>=1.0 in /usr/local/lib/python3.10/dist-packages (from google-resumable-media>=2.3.2->google-cloud-storage) (1.6.0)\n",
            "Requirement already satisfied: six>=1.5 in /usr/local/lib/python3.10/dist-packages (from python-dateutil>=2.8.2->pandas) (1.16.0)\n",
            "Requirement already satisfied: charset-normalizer<4,>=2 in /usr/local/lib/python3.10/dist-packages (from requests<3.0.0dev,>=2.18.0->google-cloud-storage) (3.4.0)\n",
            "Requirement already satisfied: idna<4,>=2.5 in /usr/local/lib/python3.10/dist-packages (from requests<3.0.0dev,>=2.18.0->google-cloud-storage) (3.10)\n",
            "Requirement already satisfied: urllib3<3,>=1.21.1 in /usr/local/lib/python3.10/dist-packages (from requests<3.0.0dev,>=2.18.0->google-cloud-storage) (2.2.3)\n",
            "Requirement already satisfied: certifi>=2017.4.17 in /usr/local/lib/python3.10/dist-packages (from requests<3.0.0dev,>=2.18.0->google-cloud-storage) (2024.8.30)\n",
            "Requirement already satisfied: pyasn1<0.7.0,>=0.4.6 in /usr/local/lib/python3.10/dist-packages (from pyasn1-modules>=0.2.1->google-auth<3.0dev,>=1.25.0->google-cloud-storage) (0.6.1)\n"
          ]
        }
      ],
      "source": [
        "# Need to install necessary libraries\n",
        "!pip install pandas openpyxl sqlalchemy pymysql google-cloud-storage"
      ]
    },
    {
      "cell_type": "code",
      "source": [
        "import pandas as pd\n",
        "\n",
        "# Load necessary data\n",
        "outcomes = pd.read_excel('Data/WinningPartyByCounties.xlsx')\n",
        "demographics2012 = pd.read_excel('Data/demographicsswingstates2012.xlsx')\n",
        "demographics2016 = pd.read_excel('Data/demographicsswingstates2016.xlsx')\n",
        "demographics2020 = pd.read_excel('Data/demographicswingstates2020.xlsx')\n",
        "\n",
        "# Clean outcomes data\n",
        "outcomes['state'] = outcomes['state'].str.title()  # Standardize state names\n",
        "outcomes['county_name'] = outcomes['county_name'].str.title()  # Standardize county names\n",
        "columns_to_drop = ['office', 'version', 'county_fips', 'mode']\n",
        "outcomes_cleaned = outcomes.drop(columns=columns_to_drop)\n",
        "\n",
        "# Columns to keep for demographics, different for 2012/2020 and 2016\n",
        "columns_to_keep = [\n",
        "    'County Name', 'State Name', 'Females 18-24 %', 'Males 65+ %',\n",
        "    'White alone %', 'Black or African American alone %',\n",
        "    'less than $39,999 %', 'more than $200,000 %',\n",
        "    'Regular high school diploma %', \"Master's degree %\",\n",
        "    'In labor force %', 'Not in labor force %'\n",
        "]\n",
        "columns_to_keep_2016 = [\n",
        "    'County Name', 'State Name', 'Females 18-24 %', 'Males 65+ %',\n",
        "    'White alone %', 'Black or African American alone %',\n",
        "    'less than $39,999 %', 'more than $200,000 %',\n",
        "    'Regular high school diploma %', \"Master's degree %\",\n",
        "    'In labor force Percentage %', 'Not in labor force Percentage %'\n",
        "]\n",
        "\n",
        "# Clean demographics data\n",
        "demographics2012_cleaned = demographics2012[columns_to_keep].copy()\n",
        "demographics2016_cleaned = demographics2016[columns_to_keep_2016].rename(\n",
        "    columns={\n",
        "        \"In labor force Percentage %\": \"In labor force %\",\n",
        "        \"Not in labor force Percentage %\": \"Not in labor force %\"\n",
        "    }\n",
        ").copy()\n",
        "demographics2020_cleaned = demographics2020[columns_to_keep].copy()\n",
        "\n",
        "# Add 'year' column\n",
        "demographics2012_cleaned['year'] = 2012\n",
        "demographics2016_cleaned['year'] = 2016\n",
        "demographics2020_cleaned['year'] = 2020\n",
        "\n",
        "# Standardize column names for merging\n",
        "for df in [demographics2012_cleaned, demographics2016_cleaned, demographics2020_cleaned]:\n",
        "    df['county_name'] = (\n",
        "        df['County Name']\n",
        "        .str.replace(r'\\s*County\\s*$', '', regex=True)\n",
        "        .str.strip()\n",
        "        .str.title()\n",
        "    )\n",
        "    df['state'] = df['State Name'].str.strip().str.title()\n",
        "\n",
        "# Merge datasets for each year\n",
        "merged_2012 = pd.merge(\n",
        "    outcomes_cleaned[outcomes_cleaned['year'] == 2012],\n",
        "    demographics2012_cleaned,\n",
        "    on=['county_name', 'state'],\n",
        "    how='inner'\n",
        ")\n",
        "merged_2016 = pd.merge(\n",
        "    outcomes_cleaned[outcomes_cleaned['year'] == 2016],\n",
        "    demographics2016_cleaned,\n",
        "    on=['county_name', 'state'],\n",
        "    how='inner'\n",
        ")\n",
        "merged_2020 = pd.merge(\n",
        "    outcomes_cleaned[outcomes_cleaned['year'] == 2020],\n",
        "    demographics2020_cleaned,\n",
        "    on=['county_name', 'state'],\n",
        "    how='inner'\n",
        ")\n",
        "\n",
        "# Combine all years merged data\n",
        "merged_data = pd.concat([merged_2012, merged_2016, merged_2020], axis=0)\n",
        "\n",
        "# Clean up column names\n",
        "merged_data = merged_data.rename(columns=lambda x: x.strip())\n",
        "if 'year_y' in merged_data.columns:\n",
        "    merged_data = merged_data.drop(columns=['year_y'])\n",
        "if 'year_x' in merged_data.columns:\n",
        "    merged_data = merged_data.rename(columns={'year_x': 'year'})\n",
        "\n",
        "# Final dataset inspection\n",
        "print(\"Final merged dataset shape:\", merged_data.shape)\n",
        "print(\"Final merged dataset preview:\")\n",
        "print(merged_data.head())\n",
        "\n",
        "# Save the final merged dataset as a CSV file\n",
        "merged_data.to_csv('final_merged_dataset.csv', index=False)"
      ],
      "metadata": {
        "id": "231DkBh_nZth",
        "collapsed": true,
        "colab": {
          "base_uri": "https://localhost:8080/"
        },
        "outputId": "4a950b8a-0c3a-4082-fe35-7d17182d072a"
      },
      "execution_count": 151,
      "outputs": [
        {
          "output_type": "stream",
          "name": "stdout",
          "text": [
            "Final merged dataset shape: (1539, 20)\n",
            "Final merged dataset preview:\n",
            "   year    state state_po county_name     candidate       party  \\\n",
            "0  2012  Arizona       AZ      Apache  BARACK OBAMA    DEMOCRAT   \n",
            "1  2012  Arizona       AZ     Cochise   MITT ROMNEY  REPUBLICAN   \n",
            "2  2012  Arizona       AZ    Coconino  BARACK OBAMA    DEMOCRAT   \n",
            "3  2012  Arizona       AZ        Gila   MITT ROMNEY  REPUBLICAN   \n",
            "4  2012  Arizona       AZ      Graham   MITT ROMNEY  REPUBLICAN   \n",
            "\n",
            "   candidatevotes  totalvotes      County Name State Name  Females 18-24 %  \\\n",
            "0           17147       25848    Apache County    Arizona         0.100623   \n",
            "1           29497       49003   Cochise County    Arizona         0.081688   \n",
            "2           29257       51731  Coconino County    Arizona         0.188882   \n",
            "3           13455       21528      Gila County    Arizona         0.059434   \n",
            "4            8076       11855    Graham County    Arizona         0.119623   \n",
            "\n",
            "   Males 65+ %  White alone %  Black or African American alone %  \\\n",
            "0     0.108292       0.239842                           0.002890   \n",
            "1     0.163383       0.802842                           0.039384   \n",
            "2     0.084195       0.626210                           0.013238   \n",
            "3     0.223132       0.791377                           0.004454   \n",
            "4     0.099268       0.753684                           0.020908   \n",
            "\n",
            "   less than $39,999 %  more than $200,000 %  Regular high school diploma %  \\\n",
            "0             0.598109              0.010349                       0.276767   \n",
            "1             0.438521              0.020866                       0.189967   \n",
            "2             0.419966              0.027626                       0.185110   \n",
            "3             0.523142              0.007755                       0.271080   \n",
            "4             0.456232              0.013706                       0.257743   \n",
            "\n",
            "   Master's degree %  In labor force %  Not in labor force %  \n",
            "0           0.032809          0.452971              0.547029  \n",
            "1           0.067294          0.538091              0.461909  \n",
            "2           0.088901          0.667074              0.332926  \n",
            "3           0.048560          0.466888              0.533112  \n",
            "4           0.043325          0.506001              0.493999  \n"
          ]
        }
      ]
    },
    {
      "cell_type": "code",
      "source": [
        "from sqlalchemy import create_engine, text\n",
        "\n",
        "# Database connection details\n",
        "db_username = 'root'\n",
        "db_password = 'election-project-data'\n",
        "public_ip = '35.199.15.59'\n",
        "db_name = 'outcomes-demographics'\n",
        "\n",
        "# Create a database engine\n",
        "engine = create_engine(f'mysql+pymysql://{db_username}:{db_password}@{public_ip}/{db_name}')\n",
        "\n",
        "# Define a table creation query\n",
        "create_table_query = \"\"\"\n",
        "CREATE TABLE outcomes_demographics (\n",
        "    id INT AUTO_INCREMENT PRIMARY KEY,\n",
        "    year INT,\n",
        "    state VARCHAR(255),\n",
        "    state_po VARCHAR(255),\n",
        "    county_name VARCHAR(255),\n",
        "    candidate VARCHAR(255),\n",
        "    party VARCHAR(255),\n",
        "    candidatevotes INT,\n",
        "    totalvotes INT,\n",
        "    state_name VARCHAR(255),\n",
        "    males_18_24 FLOAT,\n",
        "    females_65_plus FLOAT,\n",
        "    white_alone FLOAT,\n",
        "    black_or_african_american_alone FLOAT,\n",
        "    less_than_39999 FLOAT,\n",
        "    more_than_200000 FLOAT,\n",
        "    regular_high_school_diploma FLOAT,\n",
        "    masters_degree FLOAT,\n",
        "    in_labor_force FLOAT,\n",
        "    not_in_labor_force FLOAT\n",
        ");\n",
        "\"\"\"\n",
        "\n",
        "# Execute the query to create the table\n",
        "try:\n",
        "    with engine.connect() as conn:\n",
        "        conn.execute(text(create_table_query))\n",
        "        print(\"Table 'outcomes_demographics' created or already exists.\")\n",
        "except Exception as e:\n",
        "    print(f\"Error creating table: {e}\")\n",
        "\n",
        "# Load the CSV data\n",
        "merged_data = pd.read_csv('final_merged_dataset.csv')"
      ],
      "metadata": {
        "colab": {
          "base_uri": "https://localhost:8080/"
        },
        "id": "01jyj8mtE_ke",
        "outputId": "1a2d4a55-58fa-48b2-8ba2-99234fe75cfb"
      },
      "execution_count": 152,
      "outputs": [
        {
          "output_type": "stream",
          "name": "stdout",
          "text": [
            "Table 'outcomes_demographics' created or already exists.\n"
          ]
        }
      ]
    },
    {
      "cell_type": "code",
      "source": [
        "# Upload the data to the MySQL table\n",
        "try:\n",
        "    merged_data.to_sql('outcomes_demographics', con=engine, if_exists='replace', index=False)\n",
        "    print(\"Data uploaded successfully to 'outcomes_demographics'.\")\n",
        "except Exception as e:\n",
        "    print(f\"Error uploading data: {e}\")\n",
        "\n",
        "# Connecting to MySQL database to validate outcomes_demographics table upload\n",
        "try:\n",
        "    with engine.connect() as conn:\n",
        "        result = conn.execute(text(\"SELECT COUNT(*) FROM outcomes_demographics;\"))\n",
        "        row_count = result.fetchone()[0]\n",
        "        print(f\"Number of rows in 'outcomes_demographics': {row_count}\")\n",
        "except Exception as e:\n",
        "    print(f\"Error verifying data: {e}\")"
      ],
      "metadata": {
        "id": "hAhWIi61pO5Y",
        "colab": {
          "base_uri": "https://localhost:8080/"
        },
        "outputId": "3810c91c-9a8b-48fb-f4c6-08891ab76ce3"
      },
      "execution_count": null,
      "outputs": [
        {
          "output_type": "stream",
          "name": "stdout",
          "text": [
            "Data uploaded successfully to 'outcomes_demographics'.\n",
            "Number of rows in 'outcomes_demographics': 1539\n"
          ]
        }
      ]
    },
    {
      "cell_type": "code",
      "source": [
        "# Validating Google Cloud bucket and connection\n",
        "import os\n",
        "from google.cloud import storage\n",
        "os.environ['GOOGLE_APPLICATION_CREDENTIALS'] = '/content/ds-final-project-443519-b7e05f36c0a4.json'\n",
        "\n",
        "# Initialize the client\n",
        "client = storage.Client()\n",
        "\n",
        "# List buckets\n",
        "buckets = list(client.list_buckets())\n",
        "print(\"Buckets in the project:\")\n",
        "for bucket in buckets:\n",
        "    print(bucket.name)"
      ],
      "metadata": {
        "id": "CisKpRU2pIuC",
        "colab": {
          "base_uri": "https://localhost:8080/"
        },
        "outputId": "68ce3dbe-2eed-412f-ee03-cefc67f94334"
      },
      "execution_count": 153,
      "outputs": [
        {
          "output_type": "stream",
          "name": "stdout",
          "text": [
            "Buckets in the project:\n",
            "ds-final-project\n"
          ]
        }
      ]
    },
    {
      "cell_type": "code",
      "source": [
        "def list_bucket_contents(bucket_name):\n",
        "    client = storage.Client()\n",
        "    bucket = client.bucket(bucket_name)\n",
        "    blobs = bucket.list_blobs()\n",
        "\n",
        "    print(f\"Files in bucket {bucket_name}:\")\n",
        "    for blob in blobs:\n",
        "        print(blob.name)\n",
        "\n",
        "# Call the function\n",
        "list_bucket_contents('ds-final-project')"
      ],
      "metadata": {
        "id": "t0R-QRzjtxMu",
        "outputId": "bc4b7af5-53b1-4bc1-f132-4eb82eabb2a2",
        "colab": {
          "base_uri": "https://localhost:8080/"
        }
      },
      "execution_count": 156,
      "outputs": [
        {
          "output_type": "stream",
          "name": "stdout",
          "text": [
            "Files in bucket ds-final-project:\n",
            "gs://ds-final-project/\n"
          ]
        }
      ]
    },
    {
      "cell_type": "code",
      "source": [
        "# uploading merged_data.csv to google cloud bucket\n",
        "def upload_to_gcs(bucket_name, source_file_name, destination_blob_name):\n",
        "    client = storage.Client()\n",
        "    bucket = client.bucket(bucket_name)\n",
        "    blob = bucket.blob(destination_blob_name)\n",
        "    blob.upload_from_filename(source_file_name)\n",
        "    print(f\"File {source_file_name} uploaded to {destination_blob_name}.\")\n",
        "\n",
        "upload_to_gcs('ds-final-project', 'final_merged_dataset.csv', 'final_merged_dataset.csv')"
      ],
      "metadata": {
        "id": "OJw9NnTMFM4D",
        "colab": {
          "base_uri": "https://localhost:8080/"
        },
        "outputId": "12497c10-bb8c-4698-a720-02b1339b340e"
      },
      "execution_count": 157,
      "outputs": [
        {
          "output_type": "stream",
          "name": "stdout",
          "text": [
            "File final_merged_dataset.csv uploaded to final_merged_dataset.csv.\n"
          ]
        }
      ]
    },
    {
      "cell_type": "code",
      "source": [
        "list_bucket_contents('ds-final-project')"
      ],
      "metadata": {
        "id": "BjKwKp3Ot_ZF",
        "outputId": "54bd0f69-d31b-4ade-ae66-82be9b458de0",
        "colab": {
          "base_uri": "https://localhost:8080/"
        }
      },
      "execution_count": 158,
      "outputs": [
        {
          "output_type": "stream",
          "name": "stdout",
          "text": [
            "Files in bucket ds-final-project:\n",
            "final_merged_dataset.csv\n",
            "gs://ds-final-project/\n"
          ]
        }
      ]
    }
  ]
}